{
 "cells": [
  {
   "cell_type": "markdown",
   "metadata": {
    "id": "xq__bChjD04e"
   },
   "source": [
    "# Python Assignment 1"
   ]
  },
  {
   "cell_type": "markdown",
   "metadata": {
    "id": "y7j2V0UDMYLG"
   },
   "source": [
    "⏱⏱⏱**Due: 10/19/2025 11:59:59 PM** ⏱⏱⏱\n",
    "\n",
    "Submit this notebook file and upload it to your git repo. Include a link to your git repo while submitting this file to Brightspace.\n",
    "\n",
    "You are not allowed to use chatgpt or any LLM in this assignment.\n",
    "Cooperation is allowed and encouraged; however, you must write up and submit your own work. If you cooperate with others, you must list their names here."
   ]
  },
  {
   "cell_type": "markdown",
   "metadata": {
    "id": "SUS30Ew9D04n"
   },
   "source": [
    "Total points: 100 (equivalent to 20 points after conversion)"
   ]
  },
  {
   "cell_type": "markdown",
   "metadata": {
    "id": "b_bgT3b2GYTB"
   },
   "source": [
    "## 0. Data Types, Structures, Indexing, and Slicing"
   ]
  },
  {
   "cell_type": "markdown",
   "metadata": {
    "id": "6yI1Jt57IwV2"
   },
   "source": [
    "Read the lecutre note as well as [this page](https://www.geeksforgeeks.org/mutable-vs-immutable-objects-in-python/) and [this page](https://www.geeksforgeeks.org/difference-between-shallow-and-deep-copy-of-a-class/). Complete the following questions.\n",
    "\n",
    "(5 points) Give some examples (at least 2) of mutable objects in Python.\n",
    "\n",
    "***Answer:***\n",
    "---\n",
    "\n",
    "Some examples of mutable objects in Python are lists, dictionaries and sets. \n",
    "\n",
    "\n",
    "\n",
    "(5 points) Give some examples (at least 2) of immutable objects in Python.\n",
    "\n",
    "***Answer:***\n",
    "---\n",
    "\n",
    "Some examples of immutable objects in Python are tuples, integers and strings. \n",
    "\n",
    "\n",
    "(10 points) State the differences between assignment, shallow copy, and deep copy. Any reasonable answer will get full credit.\n",
    "\n",
    "***Answer:***\n",
    "\n",
    "Assignment refers to the process of creating a reference to an already existing object. Both variables will point to thesame location in memory and altering one will change the other.  \n",
    "\n",
    "A shallow copy creates a new object, but that object contains references to existing nested items from an older object. Thus, changing the nested items in the shallow copy will alter the nested objects within the original object. \n",
    "\n",
    "A deep copy creates an entirely new object with a seperate allocation in memory with no reference to other previous objects. Changes to the deep copy do not at all affect the original object. \n",
    "\n",
    "\n",
    "\n",
    "---\n",
    "\n",
    "\n",
    "\n"
   ]
  },
  {
   "cell_type": "markdown",
   "metadata": {
    "id": "OA8DxcrrGqZD"
   },
   "source": [
    "(10 points) Using string methods find() and rfind(), find the index of the first digit (i.e. 0) and the index of the last digit (5) in the string below. Then, using string slicing, extract the number (i.e. 0.595595) from this string and convert the extracted value to a floating point number. Print out this float to the console."
   ]
  },
  {
   "cell_type": "code",
   "execution_count": 8,
   "metadata": {
    "id": "AUuFXXWqG4D3"
   },
   "outputs": [
    {
     "name": "stdout",
     "output_type": "stream",
     "text": [
      "0.59559\n"
     ]
    }
   ],
   "source": [
    "text = \"F-DGFDDSFGFD-CFDSHdstgfdfe: tfsd  aaa bdsf 0.595595 fdsgfdbc\";\n",
    "\n",
    "last_digit = text.rfind('5')\n",
    "first_digit = text.find('0') \n",
    "\n",
    "number = float(text[first_digit : last_digit]) \n",
    "print(number)"
   ]
  },
  {
   "cell_type": "markdown",
   "metadata": {
    "id": "cnCljYgpD04p"
   },
   "source": [
    "## 1. Conditional Statements\n",
    "\n",
    "(10 points)\n",
    "Translate the following MATLAB code into Python using `if-elif-else`.\n",
    "```\n",
    "n = input('Enter a number: ');\n",
    "\n",
    "switch n\n",
    "    case -1\n",
    "        disp('negative one')\n",
    "    case 0\n",
    "        disp('zero')\n",
    "    case 1\n",
    "        disp('positive one')\n",
    "    otherwise\n",
    "        disp('other value')\n",
    "end\n",
    "```"
   ]
  },
  {
   "cell_type": "code",
   "execution_count": 10,
   "metadata": {
    "id": "9d8vl5zjD04q"
   },
   "outputs": [
    {
     "name": "stdin",
     "output_type": "stream",
     "text": [
      "Enter a number:  5\n"
     ]
    },
    {
     "name": "stdout",
     "output_type": "stream",
     "text": [
      "other value\n"
     ]
    }
   ],
   "source": [
    "n = input('Enter a number: ') \n",
    "if n == -1 : \n",
    "    print(\"negative one\") \n",
    "elif n == 0 : \n",
    "    print(\"zero\") \n",
    "elif n == 1: \n",
    "    print(\"positive one\")\n",
    "else: \n",
    "    print(\"other value\")"
   ]
  },
  {
   "cell_type": "markdown",
   "metadata": {
    "id": "sW9XiUPpD04s"
   },
   "source": [
    "## 2. While Loops\n",
    "\n",
    "(10 points) Write a Python program that calculates the factorial of a given number (you can assume an positive integer) using a while loop. Display the result to the console."
   ]
  },
  {
   "cell_type": "code",
   "execution_count": 2,
   "metadata": {
    "colab": {
     "base_uri": "https://localhost:8080/"
    },
    "id": "CRCERx8uD04t",
    "outputId": "1870b9d1-fe04-4ae7-e5ec-08ce640ce72e"
   },
   "outputs": [
    {
     "name": "stdout",
     "output_type": "stream",
     "text": [
      "355687428096000\n",
      "6227020800\n"
     ]
    }
   ],
   "source": [
    "'''Calculate the factorial of two seperate numbers'''\n",
    "\n",
    "number = 17\n",
    "number2 = 13\n",
    "factorial = 1\n",
    "i = 1\n",
    "while i < number : \n",
    "    i += 1\n",
    "    factorial = factorial * i \n",
    "print(factorial)\n",
    "\n",
    "factorial = 1\n",
    "i=1\n",
    "while i < number2 : \n",
    "    i += 1\n",
    "    factorial = factorial * i \n",
    "print(factorial)\n",
    "\n",
    "\n",
    "\n",
    "# test cases\n",
    "# n = 17, Output: 355687428096000\n",
    "# n = 13, Output: 6227020800"
   ]
  },
  {
   "cell_type": "markdown",
   "metadata": {
    "id": "ZQ5SVMq6D04w"
   },
   "source": [
    "## 3. Functions\n",
    "\n",
    "(10 points) Write a function that determines if a number is prime."
   ]
  },
  {
   "cell_type": "code",
   "execution_count": 14,
   "metadata": {
    "colab": {
     "base_uri": "https://localhost:8080/"
    },
    "id": "6rGP5G3_D04x",
    "outputId": "00df2d17-b697-4146-968f-be4fa7cc3ba3"
   },
   "outputs": [
    {
     "name": "stdout",
     "output_type": "stream",
     "text": [
      "True\n",
      "False\n",
      "False\n",
      "True\n"
     ]
    }
   ],
   "source": [
    "import math \n",
    "\n",
    "'''Function that checks if a given number is prime.'''\n",
    "\n",
    "def is_prime(n):\n",
    "    is_prime = False\n",
    "# 1 is the smallest non-prime number has only itself as a factor.\n",
    "    if n == 1 : \n",
    "        is_prime = False \n",
    "        return is_prime\n",
    "# 2 is the smallest prime number\n",
    "    if n== 2 : \n",
    "        is_prime = True \n",
    "        return is_prime \n",
    "# Any even number is obviously not prime \n",
    "    if n % 2 == 0 : \n",
    "        is_prime = False\n",
    "        return is_prime\n",
    "# Check if n is divisible by all divisors from 3 up to the square root of n plus 1. If n is divisible by any one of these factors \n",
    "#  it is automatically divisible by factors greater than the square root of n plus 1.  \n",
    "    for divisor in range(3, int(math.sqrt(n)) + 1) : \n",
    "        if n % divisor == 0 : \n",
    "            is_prime = False\n",
    "            return is_prime\n",
    "    is_prime = True\n",
    "    return is_prime \n",
    "    \n",
    "\n",
    "\n",
    "\n",
    "\n",
    "# test cases\n",
    "print(is_prime(2))\n",
    "print(is_prime(15))     # Output: False\n",
    "print(is_prime(10))     # Output: False\n",
    "print(is_prime(17))     # Output: True"
   ]
  },
  {
   "cell_type": "markdown",
   "metadata": {
    "id": "Z6qg-fpQD04u"
   },
   "source": [
    "## 4. List Comprehension\n",
    "\n",
    "(10 points) Write a Python function called `prime_factors` that takes a relatively small integer as input and returns a list of its distinct prime factors. The function should use list comprehension to generate the list of distinct prime factors. You may use the function is_prime() defined in Q3.\n"
   ]
  },
  {
   "cell_type": "code",
   "execution_count": 15,
   "metadata": {
    "colab": {
     "base_uri": "https://localhost:8080/"
    },
    "id": "2hSCjYlOD04v",
    "outputId": "1024d2e2-7d24-4e65-9529-e5a82d2a3211"
   },
   "outputs": [
    {
     "name": "stdout",
     "output_type": "stream",
     "text": [
      "[2, 3, 5]\n",
      "[2, 7]\n",
      "[2, 3, 11]\n",
      "[2, 29]\n"
     ]
    }
   ],
   "source": [
    "'''Function lists all the prime numbers of a given number n. '''\n",
    "def prime_factors(n):\n",
    "    factors = []\n",
    "# If the number is prime just display itself in the output list\n",
    "    if is_prime(n) : \n",
    "        factors = [n]\n",
    "        return factors  \n",
    "# Otherwise go through all potential divisors of n and list out all those that are prime. \n",
    "    else : \n",
    "        return [i for i in range(1,n+1) if n%i == 0 and is_prime(i)]\n",
    "    \n",
    "    \n",
    "\n",
    "# test cases\n",
    "print(prime_factors(30))  # Output: [2, 3, 5]\n",
    "print(prime_factors(56))  # Output: [2, 7]\n",
    "print(prime_factors(198))  # Output: [2, 3, 11]\n",
    "print(prime_factors(464))  # Output: [2, 29]"
   ]
  },
  {
   "cell_type": "markdown",
   "metadata": {
    "id": "dw4kZZCiD040"
   },
   "source": [
    "## 5. Recursive Functions\n",
    "(25 points) Write a function that uses recursion to generate the $n$th row of the Pascal's triangle.\n",
    "```\n",
    "              1\n",
    "           1     1\n",
    "        1     2     1\n",
    "      1    3     3     1\n",
    "   1    4     6     4    1\n",
    "1     5    10    10    5    1\n",
    "...\n",
    "...\n",
    "...\n",
    "```"
   ]
  },
  {
   "cell_type": "code",
   "execution_count": 22,
   "metadata": {
    "colab": {
     "base_uri": "https://localhost:8080/"
    },
    "id": "V8QFB_gKD040",
    "outputId": "4946dc49-2061-4057-e65d-9f48af44dac9"
   },
   "outputs": [
    {
     "name": "stdout",
     "output_type": "stream",
     "text": [
      "[1, 5, 10, 10, 5, 1]\n"
     ]
    }
   ],
   "source": [
    "'''Return the nth row of a Pascal triangle using recursion'''\n",
    "\n",
    "def pascal(n):\n",
    "    \n",
    "#If the nth row input is less than 0 return nothing'''\n",
    "    if n < 0 : \n",
    "        return []\n",
    "        \n",
    "#Base Case : For the first row return just the element 1\n",
    "    if n == 1 : \n",
    "        return [1]\n",
    "        \n",
    "#Base Case : For the second row return [1,1].\n",
    "    if n == 2 : \n",
    "        return [1,1]\n",
    "# Otherwise, proceed to the recursive part of the algorithm\n",
    "    else: \n",
    "        row_above = pascal(n-1) \n",
    "        nth_row = [1]\n",
    "    # Iterate through the middle entries of the previous row\n",
    "        for i in range(len(row_above)-1) : \n",
    "        # Append consecutive paired sums to the nth row list middle entries\n",
    "            nth_row.append(row_above[i] + row_above[i+1])\n",
    "    # Add a 1 to the end of the nth row list\n",
    "        nth_row.append(1)\n",
    "        return nth_row\n",
    "\n",
    "\n",
    "\n",
    "# test case\n",
    "print(pascal(6))  # output [1, 5, 10, 10, 5, 1]"
   ]
  },
  {
   "cell_type": "markdown",
   "metadata": {
    "id": "eZytgm0qD041"
   },
   "source": [
    "Rewrite the above function using only `while` or `for` loops instead of recursion."
   ]
  },
  {
   "cell_type": "code",
   "execution_count": 27,
   "metadata": {
    "colab": {
     "base_uri": "https://localhost:8080/"
    },
    "id": "UZ8f-akaD041",
    "outputId": "68ec5672-a40f-493f-e725-68b7471e76bc"
   },
   "outputs": [
    {
     "name": "stdout",
     "output_type": "stream",
     "text": [
      "[1]\n",
      "[1, 1]\n",
      "[1, 2, 1]\n",
      "[1, 3, 3, 1]\n",
      "[1, 4, 6, 4, 1]\n",
      "[1, 5, 10, 10, 5, 1]\n"
     ]
    }
   ],
   "source": [
    "\n",
    "'''Return the nth row of a pascal triangle with loops'''\n",
    "\n",
    "def pascal_by_loops(n):\n",
    "#If the nth row input is less than 0 return nothing'''\n",
    "    if n < 0:\n",
    "        return []\n",
    "  \n",
    "    pascal_T = []\n",
    "    row_index = 0\n",
    "#Iterate through the rows of the pascal triangle up until the nth row(input).\n",
    "#for row_index in range(n + 1):  \n",
    "    while row_index < n : \n",
    "# Initialize the entries of the row of the Pascal triangle corresponding to the row index. \n",
    "        current_row = [0] * (row_index + 1)\n",
    "        current_row[0] = 1  \n",
    "        current_row[row_index] = 1  \n",
    "# Iterate through the middle entries of the current row.The middle entries are the sums of the entries in the previous row \n",
    "# right above it(right and left)\n",
    "        for j in range(1, row_index):  \n",
    "            current_row[j] = pascal_T[row_index-1][j-1] + pascal_T[row_index-1][j]\n",
    "        \n",
    "        pascal_T.append(current_row)\n",
    "        row_index += 1\n",
    "        \n",
    "    return pascal_T[row_index-1]\n",
    "\n",
    "\n",
    "print(pascal_by_loops(1))\n",
    "print(pascal_by_loops(2))\n",
    "print(pascal_by_loops(3))\n",
    "print(pascal_by_loops(4))\n",
    "print(pascal_by_loops(5))\n",
    "print(pascal_by_loops(6))"
   ]
  },
  {
   "cell_type": "markdown",
   "metadata": {
    "id": "HvHD6QHzVo9I"
   },
   "source": [
    "\n",
    "\n",
    "---\n",
    "\n",
    "\n",
    "（5 points) good coding practice and properly submitting your work to GitHub. \n",
    "\n",
    "Github Link : https://github.com/mgleyzer12/AMS595-Python-Project1.git"
   ]
  },
  {
   "cell_type": "code",
   "execution_count": null,
   "metadata": {},
   "outputs": [],
   "source": []
  }
 ],
 "metadata": {
  "anaconda-cloud": {},
  "colab": {
   "provenance": []
  },
  "kernelspec": {
   "display_name": "Python 3 (ipykernel)",
   "language": "python",
   "name": "python3"
  },
  "language_info": {
   "codemirror_mode": {
    "name": "ipython",
    "version": 3
   },
   "file_extension": ".py",
   "mimetype": "text/x-python",
   "name": "python",
   "nbconvert_exporter": "python",
   "pygments_lexer": "ipython3",
   "version": "3.13.5"
  }
 },
 "nbformat": 4,
 "nbformat_minor": 4
}
